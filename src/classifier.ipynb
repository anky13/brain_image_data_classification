{
 "cells": [
  {
   "cell_type": "markdown",
   "metadata": {},
   "source": [
    "## Import"
   ]
  },
  {
   "cell_type": "code",
   "execution_count": 73,
   "metadata": {},
   "outputs": [],
   "source": [
    "from scipy.io import loadmat\n",
    "import pandas as pd\n",
    "import numpy as np\n",
    "\n",
    "import glob, os"
   ]
  },
  {
   "cell_type": "markdown",
   "metadata": {},
   "source": [
    "## Utilities"
   ]
  },
  {
   "cell_type": "code",
   "execution_count": 53,
   "metadata": {},
   "outputs": [],
   "source": [
    "def rGetFiles(dirName, fName):\n",
    "    fList = []\n",
    "    count = 0\n",
    "    for root, dirs, files in os.walk(dirName):\n",
    "        for file in files:\n",
    "            if file == fName:\n",
    "                #print(os.path.join(root, file))\n",
    "                fList.append(os.path.join(root, file))\n",
    "                count = count + 1\n",
    "        #end-for\n",
    "    #end-for\n",
    "    print(\"Total matched files : %d\" % (count))\n",
    "    return fList\n",
    "#end-rGetFiles"
   ]
  },
  {
   "cell_type": "code",
   "execution_count": 113,
   "metadata": {},
   "outputs": [],
   "source": [
    "def sepFileList(fList):\n",
    "    eeg_count = 0\n",
    "    nirs_count = 0\n",
    "    eeg_list = []\n",
    "    nirs_list = []\n",
    "    for f in fList:\n",
    "        if f.rfind(\"-EEG\") >= 0:\n",
    "            eeg_list.append(f)\n",
    "            eeg_count = eeg_count + 1\n",
    "        elif f.rfind(\"-NIRS\") >= 0:\n",
    "            nirs_list.append(f)\n",
    "            nirs_count = nirs_count + 1\n",
    "    #end-for\n",
    "    print(\"EEG Files : %d, NIRS Files : %d\" % (eeg_count, nirs_count))\n",
    "    return eeg_list, nirs_list"
   ]
  },
  {
   "cell_type": "code",
   "execution_count": 114,
   "metadata": {},
   "outputs": [],
   "source": [
    "def getParentDirName(path):\n",
    "    path_str = os.path.abspath(path).split('/')\n",
    "    par_name = path_str[len(path_str)-2]\n",
    "    return par_name\n",
    "#end-getParentDirName"
   ]
  },
  {
   "cell_type": "code",
   "execution_count": 116,
   "metadata": {},
   "outputs": [],
   "source": [
    "def getParentDir(fPath):\n",
    "    return os.path.abspath(os.path.join(fPath, os.pardir))\n",
    "#end-getParentDir"
   ]
  },
  {
   "cell_type": "code",
   "execution_count": 117,
   "metadata": {},
   "outputs": [],
   "source": [
    "def moveFile(fName, destDir):\n",
    "    os.rename(fName, destDir + \"/\" + fName)\n",
    "#end-moveFile"
   ]
  },
  {
   "cell_type": "markdown",
   "metadata": {},
   "source": [
    "## Get data files"
   ]
  },
  {
   "cell_type": "code",
   "execution_count": 91,
   "metadata": {},
   "outputs": [
    {
     "name": "stdout",
     "output_type": "stream",
     "text": [
      "cnt_dsr\n",
      "Total matched files : 52\n",
      "EEG Files : 26, NIRS Files : 26\n",
      "mnt_dsr\n",
      "Total matched files : 52\n",
      "EEG Files : 26, NIRS Files : 26\n",
      "mrk_dsr\n",
      "Total matched files : 52\n",
      "EEG Files : 26, NIRS Files : 26\n"
     ]
    }
   ],
   "source": [
    "input_files = [ 'cnt_dsr' ,'mnt_dsr', 'mrk_dsr']\n",
    "extn = \".mat\"\n",
    "\n",
    "getFiles(eegFiles, input_files[0]+extn)\n",
    "\n",
    "print(\"cnt_dsr\")\n",
    "files = rGetFiles(os.curdir, input_files[0] + extn)\n",
    "eeg_cnt_dsr_flist = []\n",
    "nirs_cnt_dsr_flist = []\n",
    "eeg_cnt_dsr_flist, nirs_cnt_dsr_flist = sepFileList(files)\n",
    " \n",
    "print(\"mnt_dsr\")\n",
    "files = rGetFiles(os.curdir, input_files[1] + extn)\n",
    "eeg_mnt_dsr_flist = []\n",
    "nirs_mnt_dsr_flist = []\n",
    "eeg_mnt_dsr_flist, nirs_mnt_dsr_flist = sepFileList(files)\n",
    "\n",
    "print(\"mrk_dsr\")\n",
    "files = rGetFiles(os.curdir, input_files[2] + extn)\n",
    "eeg_mrk_dsr_flist = []\n",
    "nirs_mrk_dsr_flist = []\n",
    "eeg_mrk_dsr_flist, nirs_mrk_dsr_flist = sepFileList(files)"
   ]
  },
  {
   "cell_type": "markdown",
   "metadata": {},
   "source": [
    "## Extract and Export cnt_dsr Matlab data to CSV"
   ]
  },
  {
   "cell_type": "code",
   "execution_count": 3,
   "metadata": {},
   "outputs": [],
   "source": [
    "def extract_cnt_dsr(fName):\n",
    "    #print(\"file : \", fName)\n",
    "    data = loadmat(fName, squeeze_me=True)\n",
    "    result = []\n",
    "    for oxyordeoxy in data['cnt_dsr'].tolist():\n",
    "        result.append([])\n",
    "        for data in oxyordeoxy.tolist():\n",
    "            if (type(data) is np.ndarray):\n",
    "                print('data ={}'.format(data.shape))\n",
    "                result[i].append(data)\n",
    "        #end-for\n",
    "    #end-for\n",
    "    return result\n",
    "#end-extract_cnt_dsr"
   ]
  },
  {
   "cell_type": "code",
   "execution_count": 120,
   "metadata": {},
   "outputs": [],
   "source": [
    "def export_to_csv(result, correspondingFile):\n",
    "    #print(\"file : \", correspondingFile)\n",
    "    f = correspondingFile.split('/')\n",
    "    oxydata =  pd.DataFrame(data=result[0][1].tolist(), columns=result[0][0])\n",
    "    #print(oxydata.head)\n",
    "    oxy_file = f[len(f)-1].strip(extn) + '_oxydata.csv'\n",
    "    oxydata.to_csv(oxy_file)\n",
    "    moveFile(oxy_file, getParentDir(correspondingFile))\n",
    "    \n",
    "    deoxy_file = f[len(f)-1].strip(extn) + '_deoxydata.csv'\n",
    "    deoxydata =  pd.DataFrame(data=result[1][1].tolist(), columns=result[1][0])\n",
    "    deoxydata.to_csv(deoxy_file)\n",
    "    moveFile(deoxy_file, getParentDir(correspondingFile))\n",
    "#end-export_to_csv"
   ]
  },
  {
   "cell_type": "markdown",
   "metadata": {},
   "source": [
    "## Extract and Export mrk_dsr Matlab data to CSV"
   ]
  },
  {
   "cell_type": "code",
   "execution_count": 136,
   "metadata": {},
   "outputs": [],
   "source": [
    "def extract_mrk_dsr(fName):\n",
    "    data = scipy.io.loadmat(fName, struct_as_record=True)\n",
    "    result = []\n",
    "\n",
    "    for arr in data['mrk_dsr'].tolist():       \n",
    "        for onedata in arr:\n",
    "            print('loop')\n",
    "            #result.append(onedata)\n",
    "            for oned in onedata:\n",
    "                for one in oned:\n",
    "                    for t in one:\n",
    "                        print('t={0}->{1}'.format(type(t), t))\n",
    "                        result.append(t)\n",
    "                    #end-for\n",
    "                #end-for\n",
    "            #end-for\n",
    "        #end-for\n",
    "    #end-for\n",
    "    return result\n",
    "#end-extract_mnt_dsr"
   ]
  },
  {
   "cell_type": "code",
   "execution_count": 152,
   "metadata": {},
   "outputs": [],
   "source": [
    "def export_mrk_dsr_to_csv(result, correspondingFile):\n",
    "    #print(correspondingFile)\n",
    "    f = correspondingFile.split('/')\n",
    "    #print(f)\n",
    "    fName = f[len(f)-1].split('.')[0] + '.csv'\n",
    "    #print('exporting with filename : %s' % (fName))\n",
    "    data =  pd.DataFrame(data=result)        \n",
    "    #print(data.shape)\n",
    "    data.to_csv(fName, index=False)\n",
    "    moveFile(fName, getParentDir(correspondingFile))"
   ]
  },
  {
   "cell_type": "markdown",
   "metadata": {},
   "source": [
    "## Extract and Export mnt_dsr Matlab data to CSV"
   ]
  },
  {
   "cell_type": "code",
   "execution_count": 160,
   "metadata": {},
   "outputs": [],
   "source": [
    "def extract_mnt_dsr(fName):\n",
    "    data = scipy.io.loadmat(fName, struct_as_record=True)\n",
    "    result =[]\n",
    "\n",
    "    for oxyordeoxy in data['mnt_dsr'].tolist():    \n",
    "        for onedata in oxyordeoxy:\n",
    "            result.append(onedata)\n",
    "        #end-for\n",
    "    #end-for\n",
    "#end-extract_mnt_dsr"
   ]
  },
  {
   "cell_type": "code",
   "execution_count": 161,
   "metadata": {},
   "outputs": [],
   "source": [
    "def export_mnt_dsr_to_csv(result, correspondingFile):\n",
    "    #print(correspondingFile)\n",
    "    f = correspondingFile.split('/')\n",
    "    #print(f)\n",
    "    fName = f[len(f)-1].split('.')[0] + '.csv'\n",
    "    #print('exporting with filename : %s' % (fName))\n",
    "    data =  pd.DataFrame(data=result)        \n",
    "    #print(data.shape)\n",
    "    data.to_csv(fName, index=False)\n",
    "    moveFile(fName, getParentDir(correspondingFile))"
   ]
  },
  {
   "cell_type": "markdown",
   "metadata": {},
   "source": [
    "## MATLAB to CSV"
   ]
  },
  {
   "cell_type": "code",
   "execution_count": 2,
   "metadata": {},
   "outputs": [],
   "source": [
    "def mat_to_csv(dataStr):\n",
    "    print('mat_to_csv for %s' % (dataStr))\n",
    "    if dataStr == input_files[0]:\n",
    "        for file_index in nirs_cnt_dsr_flist:\n",
    "            res = extract_cnt_dsr(file_index)\n",
    "            export_to_csv(res, file_index)\n",
    "    elif dataStr == input_files[1]:\n",
    "        for file_index in nirs_mnt_dsr_flist:\n",
    "            res = extract_mnt_dsr(file_index)\n",
    "            export_mnt_dsr_to_csv(res, file_index)\n",
    "    elif dataStr == input_files[2]:\n",
    "        for file_index in nirs_mrk_dsr_flist:\n",
    "            res = extract_mrk_dsr(file_index)\n",
    "            export_mrk_dsr_to_csv(res, file_index)\n",
    "#end-mat_to_csv"
   ]
  },
  {
   "cell_type": "code",
   "execution_count": null,
   "metadata": {},
   "outputs": [],
   "source": [
    "mat_to_csv(input_files[0])\n",
    "mat_to_csv(input_files[1])\n",
    "mat_to_csv(input_files[2])"
   ]
  }
 ],
 "metadata": {
  "kernelspec": {
   "display_name": "Python 2",
   "language": "python",
   "name": "python2"
  },
  "language_info": {
   "codemirror_mode": {
    "name": "ipython",
    "version": 2
   },
   "file_extension": ".py",
   "mimetype": "text/x-python",
   "name": "python",
   "nbconvert_exporter": "python",
   "pygments_lexer": "ipython2",
   "version": "2.7.15"
  }
 },
 "nbformat": 4,
 "nbformat_minor": 2
}
